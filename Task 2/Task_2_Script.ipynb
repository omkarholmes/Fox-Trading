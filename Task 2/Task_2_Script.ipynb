{
 "cells": [
  {
   "cell_type": "code",
   "execution_count": 1,
   "metadata": {},
   "outputs": [],
   "source": [
    "import requests\n",
    "import json\n",
    "import pyexcel_xlsx as pe\n",
    "import pandas as pd\n",
    "import datetime as dt\n",
    "import numpy as np"
   ]
  },
  {
   "cell_type": "code",
   "execution_count": 2,
   "metadata": {},
   "outputs": [],
   "source": [
    "# Name of File we need to work on\n",
    "fileName = \"NIFTY25JUN2010000PE.xlsx\"\n",
    "# Name of the Sheet from which we generate report\n",
    "sheet=\"NIFTY25JUN2010000PE\""
   ]
  },
  {
   "cell_type": "code",
   "execution_count": 3,
   "metadata": {},
   "outputs": [],
   "source": [
    "# Gets us the OrderedDict object from the file \n",
    "def getFile(fileName):\n",
    "    return pe.get_data(afile=fileName)"
   ]
  },
  {
   "cell_type": "code",
   "execution_count": 4,
   "metadata": {},
   "outputs": [],
   "source": [
    "def createReport(df):\n",
    "    report=[list(df.columns)]\n",
    "    for i in range(1,(df.shape[0])):\n",
    "        c_row = df.iloc[i]\n",
    "        p_row = df.iloc[i-1]\n",
    "        if(c_row[6] < p_row[6]):\n",
    "            if(p_row[5] < c_row[5] or (c_row[2]-p_row[2]).days > 0):\n",
    "                report.append(list(c_row))\n",
    "    return report"
   ]
  },
  {
   "cell_type": "code",
   "execution_count": 5,
   "metadata": {},
   "outputs": [],
   "source": [
    "def preProcess(excel):\n",
    "    df = pd.DataFrame(excel[1:])\n",
    "    df.columns=excel[0]\n",
    "    df.insert(1,\n",
    "          \"Timestamp\",\n",
    "          df[\"Date\"].map(lambda x : x.strftime(\"%Y-%m-%d\"))+\" \"+df[\"Time\"].map(lambda x : x.strftime(\"%H:%M:%S\")))\n",
    "    df.drop([\"Date\",\"Time\"],axis=1)\n",
    "    df[\"Timestamp\"]=df[\"Timestamp\"].map(lambda x : dt.datetime.strptime(x, \"%Y-%m-%d %H:%M:%S\"))\n",
    "    df=(df.set_index('Timestamp')\n",
    "        .resample('15T').first()\n",
    "        .reset_index()\n",
    "        .reindex(columns=df.columns)\n",
    "       )\n",
    "    df.dropna(inplace=True)\n",
    "    df.index=range(0,df.shape[0])\n",
    "    return df"
   ]
  },
  {
   "cell_type": "code",
   "execution_count": 12,
   "metadata": {},
   "outputs": [],
   "source": [
    "def run():\n",
    "    excel = getFile(fileName)\n",
    "    report=createReport(preProcess(excel[sheet]))\n",
    "    dr=pd.DataFrame(report[1:])\n",
    "    dr.columns=report[0]\n",
    "    dr.insert(dr.columns.shape[0],\"Profit/Loss\",(dr[dr.columns[4]]-dr[dr.columns[7]]))\n",
    "    dr.insert(dr.columns.shape[0],\"Profit/Loss Volume\", dr[dr.columns[9]]*dr[dr.columns[8]])\n",
    "    saveSheet(excel,convertDFtoOrdDict(dr))\n",
    "    print(\"Report Generated for the file \"+fileName)"
   ]
  },
  {
   "cell_type": "code",
   "execution_count": 7,
   "metadata": {},
   "outputs": [],
   "source": [
    "def convertDFtoOrdDict(df):\n",
    "    tep=[list(df.columns)]\n",
    "    for row in df.iterrows():\n",
    "        tep.append(list(row[1]))\n",
    "    return tep"
   ]
  },
  {
   "cell_type": "code",
   "execution_count": 10,
   "metadata": {},
   "outputs": [],
   "source": [
    "def saveSheet(excel,report):\n",
    "    excel = {\n",
    "        sheet:excel[sheet],\n",
    "        \"Report\":report\n",
    "    }\n",
    "    pe.save_data(fileName,excel)"
   ]
  },
  {
   "cell_type": "code",
   "execution_count": 11,
   "metadata": {},
   "outputs": [],
   "source": [
    "run()"
   ]
  },
  {
   "cell_type": "code",
   "execution_count": null,
   "metadata": {},
   "outputs": [],
   "source": []
  },
  {
   "cell_type": "code",
   "execution_count": null,
   "metadata": {},
   "outputs": [],
   "source": []
  }
 ],
 "metadata": {
  "kernelspec": {
   "display_name": "Python 3",
   "language": "python",
   "name": "python3"
  },
  "language_info": {
   "codemirror_mode": {
    "name": "ipython",
    "version": 3
   },
   "file_extension": ".py",
   "mimetype": "text/x-python",
   "name": "python",
   "nbconvert_exporter": "python",
   "pygments_lexer": "ipython3",
   "version": "3.7.6"
  }
 },
 "nbformat": 4,
 "nbformat_minor": 4
}
